{
 "cells": [
  {
   "cell_type": "markdown",
   "metadata": {},
   "source": [
    "# Chapter 2: Financial Data Structures"
   ]
  },
  {
   "cell_type": "markdown",
   "metadata": {},
   "source": [
    "*Advances in Financial Machine Learning - Lopez de Prado*"
   ]
  },
  {
   "cell_type": "markdown",
   "metadata": {},
   "source": [
    "## 2.2 - Essential Types of Financial Data"
   ]
  },
  {
   "cell_type": "markdown",
   "metadata": {},
   "source": [
    "Four primary types of Financial Data:\n",
    "1. Fundamental Data\n",
    "  * Information that can be found in regulatory filings and business analytics. Mostly accounting data recorded quarterly.\n",
    "  * **Data is reported with a lapse** - must be careful with when the data becomes available.\n",
    "  * **Data is often backfilled** - data is often added or ammended after an initial filing.\n",
    "2. Market Data\n",
    "  * Data that includes all trading activity for a given exchange.\n",
    "3. Analytics\n",
    "  * Derived data coming from market data, fundamental data, etc.\n",
    "4.  Alternative Data\n",
    "  * Primary Data - i.e. data that has not yet been reflected in other sources, i.e. market data, fundamental data, etc.\n",
    "  * IoT, Social Media, etc."
   ]
  },
  {
   "cell_type": "markdown",
   "metadata": {},
   "source": [
    "## 2.3 - Bars"
   ]
  },
  {
   "cell_type": "markdown",
   "metadata": {},
   "source": [
    "**Bar** - a given entry, i.e. row, in a tabular representation of data."
   ]
  },
  {
   "cell_type": "markdown",
   "metadata": {},
   "source": [
    "### Standard Bars"
   ]
  },
  {
   "cell_type": "markdown",
   "metadata": {},
   "source": [
    "**Time Bars** - data obtained by sampling at fixed time intervals\n",
    "  * **Advantages**\n",
    "    * Common, easy to understand\n",
    "  * **Disdvantages**\n",
    "    * Information is not processed at regular intervals by the market\n",
    "    * Often leads to unwanted statistical properties like serial correlation, etc."
   ]
  },
  {
   "cell_type": "markdown",
   "metadata": {},
   "source": [
    "**Tick Bars** - data obtained by sampling after a fixed number of transactions has occured.\n",
    "  * **Advantages**\n",
    "    * Fixes over/under sampling issue above\n",
    "    * Better statistical properties - i.e. returns are approximately IID, gaussian, etc.\n",
    "  * **Disadvantages**\n",
    "    * Markets will often perform \"auctions\" in which a large number of trades are accumulated and then executed simultaneously, this will, however, appear as a single tick.\n",
    "    * Order fragmentation can make tick size somewhat arbitrary (i.e. a single order of 10 units vs. 10 orders of a single unit will show up as 1 or 10 ticks respectively"
   ]
  },
  {
   "cell_type": "markdown",
   "metadata": {},
   "source": [
    "**Volume Bars** - data obtained by sampling after a pre-defined number of trades of a given security.\n",
    "  * **Advantages**\n",
    "    * Even better statistical properties than tick bars\n",
    "    * Several theories depend on volume data."
   ]
  },
  {
   "cell_type": "markdown",
   "metadata": {},
   "source": [
    "**Dollar Bars** - data obtained by sampling after a pre-defined markey value is exchanged.\n",
    "  * **Advantages**\n",
    "    * Due to appreciation, currency valuations, etc. the value of a share of stock can vary. Thus, a trade of $N$ units of a stock at time $T_1$ is not the same as the same transaction at a different time $T_2$ even though it would appear the same based on Volume bars.\n",
    "    * The number of shares of a given stock available changes with time due to splits, buy backs, etc."
   ]
  },
  {
   "cell_type": "markdown",
   "metadata": {},
   "source": [
    "## Information-Driven Bars"
   ]
  },
  {
   "cell_type": "markdown",
   "metadata": {},
   "source": [
    "**Tick Imbalance Bars**\n",
    "\n",
    "Consider a sequence of ticks $\\{(p_t, v_t)\\}_{t = 1, \\cdots, T}$ where $p_t$ is the price associated with tick $t$ and $v_t$ is the volume associated with tick $t$. Further define the \"buy\" sequence\n",
    "$$\n",
    "b_t = \\begin{cases}\n",
    " b_{t-1} & \\text{if } \\Delta p_t = 0 \\\\\n",
    " \\frac{\\Delta p_t}{|\\Delta p_t|} & \\text{if } \\Delta p_t \\neq 0\n",
    " \\end{cases}\n",
    "$$\n",
    "Note, $b_t \\in \\{ -1, +1\\}$.\n",
    "\n",
    "The idea is then to sample whenever the tick imbalance $\\theta_T$ exceeds some given threshold, where the tick imbalance is defined as\n",
    "$$\n",
    "\\theta_T = \\sum_{t = 1}^{T} b_t\n",
    "$$\n",
    "\n",
    "We'd like to know at what $T$ we should start a new bar. To start, look at the expected value at time $t=0$ of the tick imbalance\n",
    "\n",
    "$$\n",
    "\\mathbb{E}_0 \\left[\\theta_T\\right] = N_{b_t = +1} \\cdot (+1) + N_{b_t = -1} \\cdot (-1)\n",
    "$$\n",
    "\n",
    "Where $N_{b_t = \\pm1}$ represents the expected number of each type of ticks. These can be calculated as $N_{b_t=\\pm1} = \\mathbb{E}_0[T] \\cdot P[b_t = \\pm 1]$, where $\\mathbb{E}_0[T]$ is the expected bar length. Thus,\n",
    "\n",
    "$$\n",
    "\\mathbb{E}_0[\\theta_T] = \\mathbb{E}_0[T] \\cdot \\left( P[b_t = +1] - P[b_t = -1]\\right) \\\\\n",
    "\\mathbb{E}_0[\\theta_T] = \\mathbb{E}_0[T] \\cdot \\left( 2P[b_t = +1] - 1\\right)\n",
    "$$\n",
    "\n",
    "Finally, we define a ***tick imbalance bar*** as a $T^*$ contiguous subset of ticks such that $T^*$ is the first time the accumulation exceeds this expectation, i.e.\n",
    "\n",
    "$$\n",
    "\\DeclareMathOperator*{\\argmin}{arg\\,min}\n",
    "T^* = \\argmin_T \\left\\{ |\\theta_T| \\ge \\mathbb{E}_0[T] \\cdot \\left| 2P[b_t = +1] - 1\\right| \\right\\}\n",
    "$$\n",
    "\n",
    "Note, this then requires that we have an estimate for the expectation $\\mathbb{E}_0[T]$ and the probability $P[b_t = +1]$. In practice, these are estimated via exponentially weighted moving average over past bars.\n",
    "\n",
    "Thus, we can interpret tick imbalance bars as being equi-information bars, since more informed trading leads to a greater imbalance."
   ]
  },
  {
   "cell_type": "markdown",
   "metadata": {},
   "source": [
    "**Volume/Dollar Imbalance Bars**\n",
    "\n",
    "Similar to Tick imbalance bars, but instead of monitoring for number of ticks exceeding expectations, monitor for volume/dollars imbalance exceeding expectations. For example, volume imbalance bars would begin by defining a volume imbalance measure\n",
    "\n",
    "$$\n",
    "\\theta_T^{(v)} = \\sum_{t=1}^T b_t v_t\n",
    "$$\n",
    "\n",
    "The analysis above proceeds the same but now replacing expected tick counts $N_{b_t = \\pm 1}$ with expected volumes $v^{\\pm}$. Note that $\\mathbb{E}_0[v_t] = v^+ + v^-$, so the expected volume equation becomes\n",
    "\n",
    "$$\n",
    "\\mathbb{E}_0[\\theta_T^{(v)}] = \\mathbb{E}_0[T] \\cdot \\left(2 v^+ - \\mathbb{E}_0[v_t] \\right)\n",
    "$$"
   ]
  },
  {
   "cell_type": "markdown",
   "metadata": {},
   "source": [
    "**Tick Run Bars**\n",
    "\n",
    "Instead of simply looking for aggregate amount of ticks/volume/dollars as above, we could look for sequences of coherent orders, i.e. *runs*. Thus, we define the current run as\n",
    "\n",
    "$$\n",
    "\\Theta_T = \\max \\left\\{ \\sum_{t, b_t = +1} b_t,  \\sum_{t, b_t = -1} - b_t \\right\\}\n",
    "$$\n",
    "\n",
    "i.e. the number of buys or sells. The idea is that we will then check when a number of buys or sells exceed an expected number.\n",
    "\n",
    "Following a similar analysis as above, take the expectation to get\n",
    "\n",
    "$$\n",
    "\\mathbb{E}_0[\\Theta_T] = \\mathbb{E}_0[T] \\cdot \\max \\left\\{ P[b_t = +1], P[b_t = -1] \\right\\}\n",
    "$$\n",
    "\n",
    "Lastly, define a stopping time $T^*$ as the first time at which $\\Theta_T$ exceeds $\\mathbb{E}_0[\\Theta_T]$.\n"
   ]
  },
  {
   "cell_type": "markdown",
   "metadata": {},
   "source": [
    "**Volume/Dollar Runs Bars**\n",
    "\n",
    "Extend the above definition with the same replacement as in the imbalance case, i.e.\n",
    "\n",
    "$$\n",
    "\\Theta_T \\rightarrow \\Theta_T^{(v)} = \\sum_{t=1}^T b_tv_t\n",
    "$$\n",
    "\n",
    "Analysis follows similarly."
   ]
  },
  {
   "cell_type": "markdown",
   "metadata": {},
   "source": [
    "## 2.4 - Dealing with Multi-Product Series"
   ]
  },
  {
   "cell_type": "markdown",
   "metadata": {},
   "source": []
  }
 ],
 "metadata": {
  "kernelspec": {
   "display_name": "adv_fin_ml",
   "language": "python",
   "name": "adv_fin_ml"
  },
  "language_info": {
   "codemirror_mode": {
    "name": "ipython",
    "version": 3
   },
   "file_extension": ".py",
   "mimetype": "text/x-python",
   "name": "python",
   "nbconvert_exporter": "python",
   "pygments_lexer": "ipython3",
   "version": "3.5.2"
  }
 },
 "nbformat": 4,
 "nbformat_minor": 2
}
